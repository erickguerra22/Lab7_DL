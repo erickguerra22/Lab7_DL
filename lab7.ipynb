{
 "cells": [
  {
   "cell_type": "code",
   "execution_count": 1,
   "metadata": {},
   "outputs": [],
   "source": [
    "import gymnasium as gym\n",
    "import numpy as np\n",
    "import torch\n",
    "import torch.nn as nn\n",
    "import torch.optim as optim\n",
    "import random\n",
    "from collections import deque\n",
    "import matplotlib.pyplot as plt"
   ]
  },
  {
   "cell_type": "code",
   "execution_count": 2,
   "metadata": {},
   "outputs": [],
   "source": [
    "env = gym.make(\"CartPole-v1\", render_mode=\"human\")\n"
   ]
  },
  {
   "cell_type": "code",
   "execution_count": 3,
   "metadata": {},
   "outputs": [
    {
     "data": {
      "text/plain": [
       "<All keys matched successfully>"
      ]
     },
     "execution_count": 3,
     "metadata": {},
     "output_type": "execute_result"
    }
   ],
   "source": [
    "class QNetwork(nn.Module):\n",
    "    def __init__(self, input_dim, output_dim):\n",
    "        super(QNetwork, self).__init__()\n",
    "        self.fc1 = nn.Linear(input_dim, 24)\n",
    "        self.fc2 = nn.Linear(24, 24)\n",
    "        self.fc3 = nn.Linear(24, output_dim)\n",
    "\n",
    "    def forward(self, x):\n",
    "        x = torch.relu(self.fc1(x))\n",
    "        x = torch.relu(self.fc2(x))\n",
    "        return self.fc3(x)\n",
    "\n",
    "policy_net = QNetwork(env.observation_space.shape[0], env.action_space.n)\n",
    "target_net = QNetwork(env.observation_space.shape[0], env.action_space.n)\n",
    "target_net.load_state_dict(policy_net.state_dict())"
   ]
  },
  {
   "cell_type": "code",
   "execution_count": 4,
   "metadata": {},
   "outputs": [],
   "source": [
    "num_episodes = 500\n",
    "batch_size = 64\n",
    "gamma = 0.99\n",
    "epsilon = 1.0\n",
    "epsilon_min = 0.01\n",
    "epsilon_decay = 0.995\n",
    "target_update_interval = 10"
   ]
  },
  {
   "cell_type": "code",
   "execution_count": 5,
   "metadata": {},
   "outputs": [],
   "source": [
    "def select_action(state, policy_net, epsilon):\n",
    "    if random.random() < epsilon:\n",
    "        return env.action_space.sample()\n",
    "    else:\n",
    "        with torch.no_grad():\n",
    "            return torch.argmax(policy_net(torch.FloatTensor(state))).item()"
   ]
  },
  {
   "cell_type": "code",
   "execution_count": 6,
   "metadata": {},
   "outputs": [],
   "source": [
    "class ReplayBuffer:\n",
    "    def __init__(self, max_size):\n",
    "        self.buffer = deque(maxlen=max_size)\n",
    "\n",
    "    def add(self, experience):\n",
    "        self.buffer.append(experience)\n",
    "\n",
    "    def sample(self, batch_size):\n",
    "        return random.sample(self.buffer, batch_size)\n",
    "\n",
    "    def __len__(self):\n",
    "        return len(self.buffer)\n",
    "\n",
    "replay_buffer = ReplayBuffer(max_size=10000)"
   ]
  },
  {
   "cell_type": "code",
   "execution_count": 7,
   "metadata": {},
   "outputs": [
    {
     "name": "stdout",
     "output_type": "stream",
     "text": [
      "Episode 1, Total Reward: 26.0\n",
      "Episode 2, Total Reward: 18.0\n"
     ]
    },
    {
     "name": "stderr",
     "output_type": "stream",
     "text": [
      "C:\\Users\\erick\\AppData\\Local\\Temp\\ipykernel_18700\\1687332840.py:26: UserWarning: Creating a tensor from a list of numpy.ndarrays is extremely slow. Please consider converting the list to a single numpy.ndarray with numpy.array() before converting to a tensor. (Triggered internally at ..\\torch\\csrc\\utils\\tensor_new.cpp:278.)\n",
      "  states, actions, rewards_batch, next_states, dones = [torch.FloatTensor(x) for x in batch]\n"
     ]
    },
    {
     "name": "stdout",
     "output_type": "stream",
     "text": [
      "Episode 3, Total Reward: 33.0\n",
      "Episode 4, Total Reward: 15.0\n",
      "Episode 5, Total Reward: 27.0\n",
      "Episode 6, Total Reward: 27.0\n",
      "Episode 7, Total Reward: 15.0\n",
      "Episode 8, Total Reward: 12.0\n",
      "Episode 9, Total Reward: 13.0\n",
      "Episode 10, Total Reward: 20.0\n",
      "Episode 11, Total Reward: 10.0\n",
      "Episode 12, Total Reward: 18.0\n",
      "Episode 13, Total Reward: 20.0\n",
      "Episode 14, Total Reward: 16.0\n",
      "Episode 15, Total Reward: 22.0\n",
      "Episode 16, Total Reward: 44.0\n",
      "Episode 17, Total Reward: 20.0\n",
      "Episode 18, Total Reward: 44.0\n",
      "Episode 19, Total Reward: 22.0\n",
      "Episode 20, Total Reward: 15.0\n",
      "Episode 21, Total Reward: 15.0\n",
      "Episode 22, Total Reward: 25.0\n",
      "Episode 23, Total Reward: 18.0\n",
      "Episode 24, Total Reward: 9.0\n",
      "Episode 25, Total Reward: 39.0\n",
      "Episode 26, Total Reward: 28.0\n",
      "Episode 27, Total Reward: 24.0\n",
      "Episode 28, Total Reward: 18.0\n",
      "Episode 29, Total Reward: 12.0\n",
      "Episode 30, Total Reward: 9.0\n",
      "Episode 31, Total Reward: 18.0\n",
      "Episode 32, Total Reward: 19.0\n",
      "Episode 33, Total Reward: 27.0\n",
      "Episode 34, Total Reward: 13.0\n",
      "Episode 35, Total Reward: 21.0\n",
      "Episode 36, Total Reward: 16.0\n",
      "Episode 37, Total Reward: 11.0\n",
      "Episode 38, Total Reward: 14.0\n",
      "Episode 39, Total Reward: 14.0\n",
      "Episode 40, Total Reward: 22.0\n",
      "Episode 41, Total Reward: 76.0\n",
      "Episode 42, Total Reward: 10.0\n",
      "Episode 43, Total Reward: 64.0\n",
      "Episode 44, Total Reward: 113.0\n",
      "Episode 45, Total Reward: 69.0\n",
      "Episode 46, Total Reward: 27.0\n",
      "Episode 47, Total Reward: 93.0\n",
      "Episode 48, Total Reward: 54.0\n",
      "Episode 49, Total Reward: 76.0\n",
      "Episode 50, Total Reward: 115.0\n",
      "Episode 51, Total Reward: 113.0\n",
      "Episode 52, Total Reward: 64.0\n",
      "Episode 53, Total Reward: 265.0\n",
      "Episode 54, Total Reward: 64.0\n",
      "Episode 55, Total Reward: 107.0\n",
      "Episode 56, Total Reward: 95.0\n",
      "Episode 57, Total Reward: 146.0\n",
      "Episode 58, Total Reward: 138.0\n",
      "Episode 59, Total Reward: 21.0\n",
      "Episode 60, Total Reward: 185.0\n",
      "Episode 61, Total Reward: 98.0\n",
      "Episode 62, Total Reward: 109.0\n",
      "Episode 63, Total Reward: 151.0\n",
      "Episode 64, Total Reward: 275.0\n",
      "Episode 65, Total Reward: 292.0\n",
      "Episode 66, Total Reward: 68.0\n",
      "Episode 67, Total Reward: 133.0\n",
      "Episode 68, Total Reward: 216.0\n",
      "Episode 69, Total Reward: 167.0\n",
      "Episode 70, Total Reward: 188.0\n",
      "Episode 71, Total Reward: 137.0\n",
      "Episode 72, Total Reward: 216.0\n",
      "Episode 73, Total Reward: 117.0\n",
      "Episode 74, Total Reward: 199.0\n",
      "Episode 75, Total Reward: 147.0\n",
      "Episode 76, Total Reward: 251.0\n",
      "Episode 77, Total Reward: 236.0\n",
      "Episode 78, Total Reward: 152.0\n",
      "Episode 79, Total Reward: 213.0\n",
      "Episode 80, Total Reward: 186.0\n",
      "Episode 81, Total Reward: 146.0\n",
      "Episode 82, Total Reward: 190.0\n",
      "Episode 83, Total Reward: 189.0\n",
      "Episode 84, Total Reward: 159.0\n",
      "Episode 85, Total Reward: 195.0\n",
      "Episode 86, Total Reward: 268.0\n",
      "Episode 87, Total Reward: 193.0\n",
      "Episode 88, Total Reward: 184.0\n",
      "Episode 89, Total Reward: 144.0\n",
      "Episode 90, Total Reward: 180.0\n",
      "Episode 91, Total Reward: 187.0\n",
      "Episode 92, Total Reward: 212.0\n",
      "Episode 93, Total Reward: 175.0\n",
      "Episode 94, Total Reward: 191.0\n",
      "Episode 95, Total Reward: 201.0\n",
      "Episode 96, Total Reward: 168.0\n",
      "Episode 97, Total Reward: 194.0\n",
      "Episode 98, Total Reward: 193.0\n",
      "Episode 99, Total Reward: 192.0\n",
      "Episode 100, Total Reward: 216.0\n",
      "Episode 101, Total Reward: 170.0\n",
      "Episode 102, Total Reward: 229.0\n",
      "Episode 103, Total Reward: 185.0\n",
      "Episode 104, Total Reward: 208.0\n",
      "Episode 105, Total Reward: 188.0\n",
      "Episode 106, Total Reward: 157.0\n",
      "Episode 107, Total Reward: 220.0\n",
      "Episode 108, Total Reward: 167.0\n",
      "Episode 109, Total Reward: 199.0\n",
      "Episode 110, Total Reward: 245.0\n",
      "Episode 111, Total Reward: 179.0\n",
      "Episode 112, Total Reward: 207.0\n",
      "Episode 113, Total Reward: 197.0\n",
      "Episode 114, Total Reward: 154.0\n",
      "Episode 115, Total Reward: 214.0\n",
      "Episode 116, Total Reward: 230.0\n",
      "Episode 117, Total Reward: 196.0\n",
      "Episode 118, Total Reward: 225.0\n",
      "Episode 119, Total Reward: 181.0\n",
      "Episode 120, Total Reward: 188.0\n",
      "Episode 121, Total Reward: 174.0\n",
      "Episode 122, Total Reward: 211.0\n",
      "Episode 123, Total Reward: 206.0\n"
     ]
    }
   ],
   "source": [
    "optimizer = optim.Adam(policy_net.parameters())\n",
    "rewards = []\n",
    "\n",
    "# Ciclo de entrenamiento\n",
    "for episode in range(num_episodes):\n",
    "    state, info = env.reset()\n",
    "    total_reward = 0\n",
    "    done = False\n",
    "\n",
    "    while not done:\n",
    "        action = select_action(state, policy_net, epsilon)\n",
    "        next_state, reward, done, truncated, info = env.step(action)\n",
    "\n",
    "        # Almacenar la experiencia\n",
    "        replay_buffer.add((state, action, reward, next_state, done))\n",
    "        state = next_state\n",
    "        total_reward += reward\n",
    "\n",
    "        # Renderizar el entorno\n",
    "        env.render()  # Esto mostrará el entorno en una ventana\n",
    "\n",
    "        # Actualizar la red\n",
    "        if len(replay_buffer) > batch_size:\n",
    "            experiences = replay_buffer.sample(batch_size)\n",
    "            batch = list(zip(*experiences))\n",
    "            states, actions, rewards_batch, next_states, dones = [torch.FloatTensor(x) for x in batch]\n",
    "            actions = actions.long()\n",
    "\n",
    "            q_values = policy_net(states)\n",
    "            next_q_values = target_net(next_states)\n",
    "            targets = rewards_batch + (1 - dones) * gamma * next_q_values.max(1)[0]\n",
    "\n",
    "            # Actualizar la red\n",
    "            optimizer.zero_grad()\n",
    "            loss = nn.MSELoss()(q_values.gather(1, actions.unsqueeze(1)).squeeze(), targets.detach())\n",
    "            loss.backward()\n",
    "            optimizer.step()\n",
    "\n",
    "    rewards.append(total_reward)\n",
    "\n",
    "    # Actualizar epsilon\n",
    "    if episode < 100:\n",
    "        epsilon = 1.0 - (episode / 100)\n",
    "    else:\n",
    "        epsilon = max(epsilon_min, epsilon * epsilon_decay)\n",
    "\n",
    "    # Actualizar red de destino\n",
    "    if episode % target_update_interval == 0:\n",
    "        target_net.load_state_dict(policy_net.state_dict())\n",
    "\n",
    "    print(f\"Episode {episode + 1}, Total Reward: {total_reward}\")\n",
    "\n",
    "# Cerrar el entorno al final\n",
    "env.close()"
   ]
  },
  {
   "cell_type": "code",
   "execution_count": 33,
   "metadata": {},
   "outputs": [
    {
     "data": {
      "image/png": "[encoded data removed]",
      "text/plain": [
       "<Figure size 640x480 with 1 Axes>"
      ]
     },
     "metadata": {},
     "output_type": "display_data"
    }
   ],
   "source": [
    "plt.plot(rewards)\n",
    "plt.xlabel('Episodios')\n",
    "plt.ylabel('Recompensa Total')\n",
    "plt.title('Progreso del Entrenamiento')\n",
    "plt.show()"
   ]
  },
  {
   "cell_type": "code",
   "execution_count": 34,
   "metadata": {},
   "outputs": [
    {
     "name": "stderr",
     "output_type": "stream",
     "text": [
      "c:\\Users\\erick\\OneDrive\\Documentos\\UVG\\8vo. Semestre\\DL\\labs\\Lib\\site-packages\\gymnasium\\envs\\classic_control\\cartpole.py:215: UserWarning: \u001b[33mWARN: You are calling render method without specifying any render mode. You can specify the render_mode at initialization, e.g. gym.make(\"CartPole-v1\", render_mode=\"rgb_array\")\u001b[0m\n",
      "  gym.logger.warn(\n"
     ]
    }
   ],
   "source": [
    "def evaluate_agent(env, policy_net, num_eval_episodes=100):\n",
    "    total_rewards = []\n",
    "\n",
    "    for _ in range(num_eval_episodes):\n",
    "        state, info = env.reset()\n",
    "        total_reward = 0\n",
    "        done = False\n",
    "        \n",
    "        while not done:\n",
    "            with torch.no_grad():\n",
    "                action = policy_net(torch.FloatTensor(state)).argmax().item()\n",
    "            \n",
    "            next_state, reward, done, truncated, info = env.step(action)\n",
    "            state = next_state\n",
    "            total_reward += reward\n",
    "\n",
    "        total_rewards.append(total_reward)\n",
    "\n",
    "    avg_reward = sum(total_rewards) / num_eval_episodes\n",
    "    return avg_reward\n",
    "\n",
    "eval_env = gym.make(\"CartPole-v1\")\n",
    "\n",
    "average_reward = evaluate_agent(eval_env, policy_net)\n",
    "print(f\"Recompensa promedio en la evaluación: {average_reward}\")\n",
    "\n",
    "eval_env.close()\n"
   ]
  }
 ],
 "metadata": {
  "kernelspec": {
   "display_name": "labs",
   "language": "python",
   "name": "python3"
  },
  "language_info": {
   "codemirror_mode": {
    "name": "ipython",
    "version": 3
   },
   "file_extension": ".py",
   "mimetype": "text/x-python",
   "name": "python",
   "nbconvert_exporter": "python",
   "pygments_lexer": "ipython3",
   "version": "3.12.5"
  }
 },
 "nbformat": 4,
 "nbformat_minor": 2
}
